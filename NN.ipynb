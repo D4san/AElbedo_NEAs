{
 "cells": [
  {
   "cell_type": "code",
   "execution_count": 5,
   "metadata": {},
   "outputs": [],
   "source": [
    "import numpy as np\n",
    "import pandas as pd\n",
    "import matplotlib.pyplot as plt\n",
    "import seaborn as sns"
   ]
  },
  {
   "cell_type": "code",
   "execution_count": 6,
   "metadata": {},
   "outputs": [
    {
     "ename": "ModuleNotFoundError",
     "evalue": "No module named 'torch'",
     "output_type": "error",
     "traceback": [
      "\u001b[1;31m---------------------------------------------------------------------------\u001b[0m",
      "\u001b[1;31mModuleNotFoundError\u001b[0m                       Traceback (most recent call last)",
      "Cell \u001b[1;32mIn[6], line 1\u001b[0m\n\u001b[1;32m----> 1\u001b[0m \u001b[38;5;28;01mimport\u001b[39;00m\u001b[38;5;250m \u001b[39m\u001b[38;5;21;01mtorch\u001b[39;00m\n\u001b[0;32m      2\u001b[0m \u001b[38;5;28;01mimport\u001b[39;00m\u001b[38;5;250m \u001b[39m\u001b[38;5;21;01mtorch\u001b[39;00m\u001b[38;5;21;01m.\u001b[39;00m\u001b[38;5;21;01mnn\u001b[39;00m\u001b[38;5;250m \u001b[39m\u001b[38;5;28;01mas\u001b[39;00m\u001b[38;5;250m \u001b[39m\u001b[38;5;21;01mnn\u001b[39;00m\n\u001b[0;32m      3\u001b[0m \u001b[38;5;28;01mimport\u001b[39;00m\u001b[38;5;250m \u001b[39m\u001b[38;5;21;01mtorch\u001b[39;00m\u001b[38;5;21;01m.\u001b[39;00m\u001b[38;5;21;01moptim\u001b[39;00m\u001b[38;5;250m \u001b[39m\u001b[38;5;28;01mas\u001b[39;00m\u001b[38;5;250m \u001b[39m\u001b[38;5;21;01moptim\u001b[39;00m\n",
      "\u001b[1;31mModuleNotFoundError\u001b[0m: No module named 'torch'"
     ]
    }
   ],
   "source": [
    "import torch\n",
    "import torch.nn as nn\n",
    "import torch.optim as optim\n",
    "from torchvision import datasets, transforms, utils\n",
    "from torch.utils.data import DataLoader\n",
    "\n"
   ]
  },
  {
   "cell_type": "code",
   "execution_count": 7,
   "metadata": {},
   "outputs": [
    {
     "name": "stderr",
     "output_type": "stream",
     "text": [
      "C:\\Users\\santi\\AppData\\Local\\Temp\\ipykernel_31692\\1855742764.py:1: DtypeWarning: Columns (9,10) have mixed types. Specify dtype option on import or set low_memory=False.\n",
      "  DATA = pd.read_csv('neo_db_prev.csv')\n"
     ]
    }
   ],
   "source": [
    "DATA = pd.read_csv('neo_db_prev.csv')"
   ]
  },
  {
   "cell_type": "code",
   "execution_count": 11,
   "metadata": {},
   "outputs": [
    {
     "data": {
      "text/plain": [
       "array(['AMO', 'APO', 'ATE', 'ETc', 'HTC', 'IEO', 'JFC', 'JFc'],\n",
       "      dtype=object)"
      ]
     },
     "execution_count": 11,
     "metadata": {},
     "output_type": "execute_result"
    }
   ],
   "source": [
    "np.unique(DATA[\"class\"])"
   ]
  },
  {
   "cell_type": "code",
   "execution_count": 16,
   "metadata": {},
   "outputs": [
    {
     "name": "stdout",
     "output_type": "stream",
     "text": [
      "Number of objects with spec_B among complete albedo data: 130\n",
      "\n",
      "Descriptive statistics of spec_B:\n",
      "count     130\n",
      "unique     25\n",
      "top         S\n",
      "freq       28\n",
      "Name: spec_B, dtype: object\n"
     ]
    }
   ],
   "source": [
    "# First filter rows with complete albedo data\n",
    "albedo_complete = DATA.dropna(subset=['albedo'])\n",
    "\n",
    "# Then count how many of these have spec_B data\n",
    "spec_b_count = albedo_complete['spec_B'].count()\n",
    "\n",
    "# Get descriptive statistics of spec_B for rows with complete data\n",
    "spec_b_stats = albedo_complete['spec_B'].describe()\n",
    "\n",
    "print(f\"Number of objects with spec_B among complete albedo data: {spec_b_count}\")\n",
    "print(\"\\nDescriptive statistics of spec_B:\")\n",
    "print(spec_b_stats)\n"
   ]
  },
  {
   "cell_type": "code",
   "execution_count": 17,
   "metadata": {},
   "outputs": [
    {
     "data": {
      "text/plain": [
       "count    38105.000000\n",
       "mean        11.999627\n",
       "std         10.951432\n",
       "min          0.010000\n",
       "25%          4.400000\n",
       "50%          8.480000\n",
       "75%         16.710000\n",
       "max        172.510000\n",
       "Name: i, dtype: float64"
      ]
     },
     "execution_count": 17,
     "metadata": {},
     "output_type": "execute_result"
    }
   ],
   "source": [
    "DATA['i'].describe()"
   ]
  },
  {
   "cell_type": "code",
   "execution_count": 4,
   "metadata": {},
   "outputs": [
    {
     "ename": "NameError",
     "evalue": "name 'DATA' is not defined",
     "output_type": "error",
     "traceback": [
      "\u001b[1;31m---------------------------------------------------------------------------\u001b[0m",
      "\u001b[1;31mNameError\u001b[0m                                 Traceback (most recent call last)",
      "Cell \u001b[1;32mIn[4], line 2\u001b[0m\n\u001b[0;32m      1\u001b[0m \u001b[38;5;66;03m## remove 2 first columns\u001b[39;00m\n\u001b[1;32m----> 2\u001b[0m DATA \u001b[38;5;241m=\u001b[39m DATA\u001b[38;5;241m.\u001b[39miloc[:,\u001b[38;5;241m2\u001b[39m:]\n",
      "\u001b[1;31mNameError\u001b[0m: name 'DATA' is not defined"
     ]
    }
   ],
   "source": [
    "## remove 2 first columns\n",
    "DATA = DATA.iloc[:,2:]"
   ]
  },
  {
   "cell_type": "code",
   "execution_count": null,
   "metadata": {},
   "outputs": [
    {
     "data": {
      "text/html": [
       "<div>\n",
       "<style scoped>\n",
       "    .dataframe tbody tr th:only-of-type {\n",
       "        vertical-align: middle;\n",
       "    }\n",
       "\n",
       "    .dataframe tbody tr th {\n",
       "        vertical-align: top;\n",
       "    }\n",
       "\n",
       "    .dataframe thead th {\n",
       "        text-align: right;\n",
       "    }\n",
       "</style>\n",
       "<table border=\"1\" class=\"dataframe\">\n",
       "  <thead>\n",
       "    <tr style=\"text-align: right;\">\n",
       "      <th></th>\n",
       "      <th>kind</th>\n",
       "      <th>class</th>\n",
       "      <th>H</th>\n",
       "      <th>G</th>\n",
       "      <th>BV</th>\n",
       "      <th>UB</th>\n",
       "      <th>IR</th>\n",
       "      <th>spec_T</th>\n",
       "      <th>spec_B</th>\n",
       "      <th>equinox</th>\n",
       "      <th>...</th>\n",
       "      <th>albedo</th>\n",
       "      <th>diameter</th>\n",
       "      <th>extent</th>\n",
       "      <th>diameter_sigma</th>\n",
       "      <th>GM</th>\n",
       "      <th>density</th>\n",
       "      <th>rot_per</th>\n",
       "      <th>A1</th>\n",
       "      <th>A2</th>\n",
       "      <th>A3</th>\n",
       "    </tr>\n",
       "  </thead>\n",
       "  <tbody>\n",
       "    <tr>\n",
       "      <th>0</th>\n",
       "      <td>an</td>\n",
       "      <td>AMO</td>\n",
       "      <td>10.41</td>\n",
       "      <td>0.46</td>\n",
       "      <td>0.921</td>\n",
       "      <td>0.531</td>\n",
       "      <td>NaN</td>\n",
       "      <td>S</td>\n",
       "      <td>S</td>\n",
       "      <td>J2000</td>\n",
       "      <td>...</td>\n",
       "      <td>0.250</td>\n",
       "      <td>16.840</td>\n",
       "      <td>34.4x11.2x11.2</td>\n",
       "      <td>0.06</td>\n",
       "      <td>0.000446</td>\n",
       "      <td>2.67</td>\n",
       "      <td>5.270</td>\n",
       "      <td>NaN</td>\n",
       "      <td>NaN</td>\n",
       "      <td>NaN</td>\n",
       "    </tr>\n",
       "    <tr>\n",
       "      <th>1</th>\n",
       "      <td>an</td>\n",
       "      <td>AMO</td>\n",
       "      <td>15.59</td>\n",
       "      <td>NaN</td>\n",
       "      <td>NaN</td>\n",
       "      <td>NaN</td>\n",
       "      <td>NaN</td>\n",
       "      <td>NaN</td>\n",
       "      <td>S</td>\n",
       "      <td>J2000</td>\n",
       "      <td>...</td>\n",
       "      <td>NaN</td>\n",
       "      <td>NaN</td>\n",
       "      <td>NaN</td>\n",
       "      <td>NaN</td>\n",
       "      <td>NaN</td>\n",
       "      <td>NaN</td>\n",
       "      <td>5.801</td>\n",
       "      <td>NaN</td>\n",
       "      <td>NaN</td>\n",
       "      <td>NaN</td>\n",
       "    </tr>\n",
       "    <tr>\n",
       "      <th>2</th>\n",
       "      <td>an</td>\n",
       "      <td>AMO</td>\n",
       "      <td>13.80</td>\n",
       "      <td>-0.12</td>\n",
       "      <td>0.832</td>\n",
       "      <td>0.436</td>\n",
       "      <td>NaN</td>\n",
       "      <td>S</td>\n",
       "      <td>NaN</td>\n",
       "      <td>J2000</td>\n",
       "      <td>...</td>\n",
       "      <td>0.310</td>\n",
       "      <td>4.200</td>\n",
       "      <td>NaN</td>\n",
       "      <td>NaN</td>\n",
       "      <td>NaN</td>\n",
       "      <td>NaN</td>\n",
       "      <td>28.410</td>\n",
       "      <td>NaN</td>\n",
       "      <td>NaN</td>\n",
       "      <td>NaN</td>\n",
       "    </tr>\n",
       "    <tr>\n",
       "      <th>3</th>\n",
       "      <td>an</td>\n",
       "      <td>AMO</td>\n",
       "      <td>9.18</td>\n",
       "      <td>0.30</td>\n",
       "      <td>0.842</td>\n",
       "      <td>0.417</td>\n",
       "      <td>NaN</td>\n",
       "      <td>S</td>\n",
       "      <td>S</td>\n",
       "      <td>J2000</td>\n",
       "      <td>...</td>\n",
       "      <td>0.238</td>\n",
       "      <td>37.675</td>\n",
       "      <td>NaN</td>\n",
       "      <td>0.40</td>\n",
       "      <td>NaN</td>\n",
       "      <td>NaN</td>\n",
       "      <td>10.297</td>\n",
       "      <td>NaN</td>\n",
       "      <td>NaN</td>\n",
       "      <td>NaN</td>\n",
       "    </tr>\n",
       "    <tr>\n",
       "      <th>4</th>\n",
       "      <td>an</td>\n",
       "      <td>AMO</td>\n",
       "      <td>17.37</td>\n",
       "      <td>NaN</td>\n",
       "      <td>NaN</td>\n",
       "      <td>NaN</td>\n",
       "      <td>NaN</td>\n",
       "      <td>NaN</td>\n",
       "      <td>NaN</td>\n",
       "      <td>J2000</td>\n",
       "      <td>...</td>\n",
       "      <td>NaN</td>\n",
       "      <td>1.000</td>\n",
       "      <td>NaN</td>\n",
       "      <td>NaN</td>\n",
       "      <td>NaN</td>\n",
       "      <td>NaN</td>\n",
       "      <td>NaN</td>\n",
       "      <td>NaN</td>\n",
       "      <td>-7.200000e-15</td>\n",
       "      <td>NaN</td>\n",
       "    </tr>\n",
       "    <tr>\n",
       "      <th>...</th>\n",
       "      <td>...</td>\n",
       "      <td>...</td>\n",
       "      <td>...</td>\n",
       "      <td>...</td>\n",
       "      <td>...</td>\n",
       "      <td>...</td>\n",
       "      <td>...</td>\n",
       "      <td>...</td>\n",
       "      <td>...</td>\n",
       "      <td>...</td>\n",
       "      <td>...</td>\n",
       "      <td>...</td>\n",
       "      <td>...</td>\n",
       "      <td>...</td>\n",
       "      <td>...</td>\n",
       "      <td>...</td>\n",
       "      <td>...</td>\n",
       "      <td>...</td>\n",
       "      <td>...</td>\n",
       "      <td>...</td>\n",
       "      <td>...</td>\n",
       "    </tr>\n",
       "    <tr>\n",
       "      <th>38100</th>\n",
       "      <td>cu</td>\n",
       "      <td>JFc</td>\n",
       "      <td>NaN</td>\n",
       "      <td>NaN</td>\n",
       "      <td>NaN</td>\n",
       "      <td>NaN</td>\n",
       "      <td>NaN</td>\n",
       "      <td>NaN</td>\n",
       "      <td>NaN</td>\n",
       "      <td>J2000</td>\n",
       "      <td>...</td>\n",
       "      <td>NaN</td>\n",
       "      <td>NaN</td>\n",
       "      <td>NaN</td>\n",
       "      <td>NaN</td>\n",
       "      <td>NaN</td>\n",
       "      <td>NaN</td>\n",
       "      <td>NaN</td>\n",
       "      <td>NaN</td>\n",
       "      <td>NaN</td>\n",
       "      <td>NaN</td>\n",
       "    </tr>\n",
       "    <tr>\n",
       "      <th>38101</th>\n",
       "      <td>cu</td>\n",
       "      <td>HTC</td>\n",
       "      <td>NaN</td>\n",
       "      <td>NaN</td>\n",
       "      <td>NaN</td>\n",
       "      <td>NaN</td>\n",
       "      <td>NaN</td>\n",
       "      <td>NaN</td>\n",
       "      <td>NaN</td>\n",
       "      <td>J2000</td>\n",
       "      <td>...</td>\n",
       "      <td>NaN</td>\n",
       "      <td>NaN</td>\n",
       "      <td>NaN</td>\n",
       "      <td>NaN</td>\n",
       "      <td>NaN</td>\n",
       "      <td>NaN</td>\n",
       "      <td>NaN</td>\n",
       "      <td>3.400000e-09</td>\n",
       "      <td>-3.000000e-10</td>\n",
       "      <td>2.100000e-09</td>\n",
       "    </tr>\n",
       "    <tr>\n",
       "      <th>38102</th>\n",
       "      <td>cu</td>\n",
       "      <td>HTC</td>\n",
       "      <td>NaN</td>\n",
       "      <td>NaN</td>\n",
       "      <td>NaN</td>\n",
       "      <td>NaN</td>\n",
       "      <td>NaN</td>\n",
       "      <td>NaN</td>\n",
       "      <td>NaN</td>\n",
       "      <td>J2000</td>\n",
       "      <td>...</td>\n",
       "      <td>NaN</td>\n",
       "      <td>NaN</td>\n",
       "      <td>NaN</td>\n",
       "      <td>NaN</td>\n",
       "      <td>NaN</td>\n",
       "      <td>NaN</td>\n",
       "      <td>NaN</td>\n",
       "      <td>NaN</td>\n",
       "      <td>NaN</td>\n",
       "      <td>NaN</td>\n",
       "    </tr>\n",
       "    <tr>\n",
       "      <th>38103</th>\n",
       "      <td>cu</td>\n",
       "      <td>ETc</td>\n",
       "      <td>NaN</td>\n",
       "      <td>NaN</td>\n",
       "      <td>NaN</td>\n",
       "      <td>NaN</td>\n",
       "      <td>NaN</td>\n",
       "      <td>NaN</td>\n",
       "      <td>NaN</td>\n",
       "      <td>J2000</td>\n",
       "      <td>...</td>\n",
       "      <td>NaN</td>\n",
       "      <td>NaN</td>\n",
       "      <td>NaN</td>\n",
       "      <td>NaN</td>\n",
       "      <td>NaN</td>\n",
       "      <td>NaN</td>\n",
       "      <td>NaN</td>\n",
       "      <td>NaN</td>\n",
       "      <td>NaN</td>\n",
       "      <td>NaN</td>\n",
       "    </tr>\n",
       "    <tr>\n",
       "      <th>38104</th>\n",
       "      <td>cu</td>\n",
       "      <td>JFc</td>\n",
       "      <td>NaN</td>\n",
       "      <td>NaN</td>\n",
       "      <td>NaN</td>\n",
       "      <td>NaN</td>\n",
       "      <td>NaN</td>\n",
       "      <td>NaN</td>\n",
       "      <td>NaN</td>\n",
       "      <td>J2000</td>\n",
       "      <td>...</td>\n",
       "      <td>NaN</td>\n",
       "      <td>NaN</td>\n",
       "      <td>NaN</td>\n",
       "      <td>NaN</td>\n",
       "      <td>NaN</td>\n",
       "      <td>NaN</td>\n",
       "      <td>NaN</td>\n",
       "      <td>NaN</td>\n",
       "      <td>NaN</td>\n",
       "      <td>NaN</td>\n",
       "    </tr>\n",
       "  </tbody>\n",
       "</table>\n",
       "<p>38105 rows × 29 columns</p>\n",
       "</div>"
      ],
      "text/plain": [
       "      kind class      H     G     BV     UB  IR spec_T spec_B equinox  ...  \\\n",
       "0       an   AMO  10.41  0.46  0.921  0.531 NaN      S      S   J2000  ...   \n",
       "1       an   AMO  15.59   NaN    NaN    NaN NaN    NaN      S   J2000  ...   \n",
       "2       an   AMO  13.80 -0.12  0.832  0.436 NaN      S    NaN   J2000  ...   \n",
       "3       an   AMO   9.18  0.30  0.842  0.417 NaN      S      S   J2000  ...   \n",
       "4       an   AMO  17.37   NaN    NaN    NaN NaN    NaN    NaN   J2000  ...   \n",
       "...    ...   ...    ...   ...    ...    ...  ..    ...    ...     ...  ...   \n",
       "38100   cu   JFc    NaN   NaN    NaN    NaN NaN    NaN    NaN   J2000  ...   \n",
       "38101   cu   HTC    NaN   NaN    NaN    NaN NaN    NaN    NaN   J2000  ...   \n",
       "38102   cu   HTC    NaN   NaN    NaN    NaN NaN    NaN    NaN   J2000  ...   \n",
       "38103   cu   ETc    NaN   NaN    NaN    NaN NaN    NaN    NaN   J2000  ...   \n",
       "38104   cu   JFc    NaN   NaN    NaN    NaN NaN    NaN    NaN   J2000  ...   \n",
       "\n",
       "       albedo  diameter          extent  diameter_sigma        GM  density  \\\n",
       "0       0.250    16.840  34.4x11.2x11.2            0.06  0.000446     2.67   \n",
       "1         NaN       NaN             NaN             NaN       NaN      NaN   \n",
       "2       0.310     4.200             NaN             NaN       NaN      NaN   \n",
       "3       0.238    37.675             NaN            0.40       NaN      NaN   \n",
       "4         NaN     1.000             NaN             NaN       NaN      NaN   \n",
       "...       ...       ...             ...             ...       ...      ...   \n",
       "38100     NaN       NaN             NaN             NaN       NaN      NaN   \n",
       "38101     NaN       NaN             NaN             NaN       NaN      NaN   \n",
       "38102     NaN       NaN             NaN             NaN       NaN      NaN   \n",
       "38103     NaN       NaN             NaN             NaN       NaN      NaN   \n",
       "38104     NaN       NaN             NaN             NaN       NaN      NaN   \n",
       "\n",
       "       rot_per            A1            A2            A3  \n",
       "0        5.270           NaN           NaN           NaN  \n",
       "1        5.801           NaN           NaN           NaN  \n",
       "2       28.410           NaN           NaN           NaN  \n",
       "3       10.297           NaN           NaN           NaN  \n",
       "4          NaN           NaN -7.200000e-15           NaN  \n",
       "...        ...           ...           ...           ...  \n",
       "38100      NaN           NaN           NaN           NaN  \n",
       "38101      NaN  3.400000e-09 -3.000000e-10  2.100000e-09  \n",
       "38102      NaN           NaN           NaN           NaN  \n",
       "38103      NaN           NaN           NaN           NaN  \n",
       "38104      NaN           NaN           NaN           NaN  \n",
       "\n",
       "[38105 rows x 29 columns]"
      ]
     },
     "metadata": {},
     "output_type": "display_data"
    }
   ],
   "source": [
    "DATA"
   ]
  },
  {
   "cell_type": "code",
   "execution_count": null,
   "metadata": {},
   "outputs": [
    {
     "data": {
      "text/plain": [
       "Index(['kind', 'class', 'H', 'G', 'BV', 'UB', 'IR', 'spec_T', 'spec_B',\n",
       "       'equinox', 'epoch', 'e', 'a', 'q', 'i', 'om', 'w', 'tp', 'ma', 'albedo',\n",
       "       'diameter', 'extent', 'diameter_sigma', 'GM', 'density', 'rot_per',\n",
       "       'A1', 'A2', 'A3'],\n",
       "      dtype='object')"
      ]
     },
     "metadata": {},
     "output_type": "display_data"
    }
   ],
   "source": [
    "DATA.columns"
   ]
  },
  {
   "cell_type": "markdown",
   "metadata": {},
   "source": [
    "Quitar \n",
    " \n",
    "G BV  UB IR spec_T equinox extent GM density tp ma diameter_sigma epoch"
   ]
  },
  {
   "cell_type": "code",
   "execution_count": null,
   "metadata": {},
   "outputs": [
    {
     "data": {
      "text/plain": [
       "count    3.810500e+04\n",
       "mean     2.460008e+06\n",
       "std      1.986196e+03\n",
       "min      2.366200e+06\n",
       "25%      2.460232e+06\n",
       "50%      2.460800e+06\n",
       "75%      2.460800e+06\n",
       "max      2.460800e+06\n",
       "Name: epoch, dtype: float64"
      ]
     },
     "metadata": {},
     "output_type": "display_data"
    }
   ],
   "source": [
    "DATA[\"epoch\"].describe()"
   ]
  },
  {
   "cell_type": "code",
   "execution_count": null,
   "metadata": {},
   "outputs": [],
   "source": [
    "cols_to_remove = ['G', 'BV', 'UB', 'IR', 'spec_T','spec_B', 'equinox', 'extent', 'GM', 'density', 'tp', 'ma', 'diameter_sigma', 'epoch', \"A1\", \"A2\", \"A3\", \"om\", \"w\", \"rot_per\"]\n",
    "DATA = DATA.drop(columns=cols_to_remove)\n"
   ]
  },
  {
   "cell_type": "code",
   "execution_count": null,
   "metadata": {},
   "outputs": [
    {
     "name": "stdout",
     "output_type": "stream",
     "text": [
      "kind object\n",
      "class object\n",
      "H float64\n",
      "e float64\n",
      "a float64\n",
      "q float64\n",
      "i float64\n",
      "albedo float64\n",
      "diameter float64\n"
     ]
    }
   ],
   "source": [
    "list(DATA.columns)\n",
    "\n",
    "## print columnds type\n",
    "for col in DATA.columns:\n",
    "    print(col, DATA[col].dtype)"
   ]
  }
 ],
 "metadata": {
  "kernelspec": {
   "display_name": "base",
   "language": "python",
   "name": "python3"
  },
  "language_info": {
   "codemirror_mode": {
    "name": "ipython",
    "version": 3
   },
   "file_extension": ".py",
   "mimetype": "text/x-python",
   "name": "python",
   "nbconvert_exporter": "python",
   "pygments_lexer": "ipython3",
   "version": "3.11.7"
  }
 },
 "nbformat": 4,
 "nbformat_minor": 2
}
